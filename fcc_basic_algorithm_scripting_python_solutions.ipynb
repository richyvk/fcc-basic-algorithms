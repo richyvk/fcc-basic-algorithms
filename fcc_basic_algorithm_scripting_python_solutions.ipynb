{
 "cells": [
  {
   "cell_type": "markdown",
   "metadata": {},
   "source": [
    "# freeCodeCamp alogrithms with Python\n",
    "Here are my annotated solutions to the freeCodeCamp [basic algorithm scripting challenges](https://www.freecodecamp.com/map).\n",
    "\n",
    "I created this to:\n",
    "* Improve my Python skills generally\n",
    "* Practice writing functions with proper docstrings\n",
    "* Begin writing in Python 3 instead of Python 2\n",
    "* Learn how to write a Jupyter notebook\n",
    "\n",
    "No doubt some of my solutions are not the most Pythonic, but I think they are getting there. Any feedback welcomed :)\n",
    "\n",
    "Note: my docstrings follow what I've learned via [this Coursera course](https://www.coursera.org/learn/learn-to-program), and it seems don't neccessarily follow what [PEP 257](https://www.python.org/dev/peps/pep-0257/) describes."
   ]
  },
  {
   "cell_type": "markdown",
   "metadata": {},
   "source": [
    "## 1. Reverse a string\n",
    "For this I went with a simple string slice using -1 as the optional step to start the slice from the end of the string."
   ]
  },
  {
   "cell_type": "code",
   "execution_count": 9,
   "metadata": {
    "collapsed": false
   },
   "outputs": [],
   "source": [
    "def reverse_string(a_string):\n",
    "    \"\"\" (str) -> str\n",
    "\n",
    "    Return reversed a_string.\n",
    "\n",
    "    >>> reverse_string('hello')\n",
    "    'olleh'\n",
    "    >>> reverse_string('!dlorw')\n",
    "    'world!'\n",
    "    \"\"\"\n",
    "    return a_string[::-1]\n"
   ]
  },
  {
   "cell_type": "code",
   "execution_count": 12,
   "metadata": {
    "collapsed": false
   },
   "outputs": [
    {
     "data": {
      "text/plain": [
       "'olleh'"
      ]
     },
     "execution_count": 12,
     "metadata": {},
     "output_type": "execute_result"
    }
   ],
   "source": [
    "reverse_string('hello')"
   ]
  },
  {
   "cell_type": "code",
   "execution_count": 15,
   "metadata": {
    "collapsed": false
   },
   "outputs": [
    {
     "data": {
      "text/plain": [
       "'world!'"
      ]
     },
     "execution_count": 15,
     "metadata": {},
     "output_type": "execute_result"
    }
   ],
   "source": [
    "reverse_string('!dlrow')"
   ]
  },
  {
   "cell_type": "markdown",
   "metadata": {},
   "source": [
    "## 2. Factorialize a Number\n",
    "Used the [math](https://docs.python.org/3/library/math.html) module for this. Seemed the obvious thing to do."
   ]
  },
  {
   "cell_type": "code",
   "execution_count": 18,
   "metadata": {
    "collapsed": true
   },
   "outputs": [],
   "source": [
    "import math\n",
    "\n",
    "\n",
    "def factorialize(n):\n",
    "    \"\"\" (number) -> number\n",
    "\n",
    "    Return the factorial of n.\n",
    "\n",
    "    >>> factorialize(5)\n",
    "    120\n",
    "    \"\"\"\n",
    "    return math.factorial(n)"
   ]
  },
  {
   "cell_type": "code",
   "execution_count": 19,
   "metadata": {
    "collapsed": false
   },
   "outputs": [
    {
     "data": {
      "text/plain": [
       "120"
      ]
     },
     "execution_count": 19,
     "metadata": {},
     "output_type": "execute_result"
    }
   ],
   "source": [
    "factorialize(5)"
   ]
  },
  {
   "cell_type": "markdown",
   "metadata": {},
   "source": [
    "## 3. Check for palindromes\n",
    "Again using slicing to compare the argument with the reverse of itself, after converting both to lowercase."
   ]
  },
  {
   "cell_type": "code",
   "execution_count": 20,
   "metadata": {
    "collapsed": true
   },
   "outputs": [],
   "source": [
    "def palindrome(a_string):\n",
    "    \"\"\" (str) -> bool\n",
    "\n",
    "    Return True if a_string is a palindrome.\n",
    "\n",
    "    >>> palindrome('wow')\n",
    "    True\n",
    "    >>> palindrome('open')\n",
    "    False\n",
    "    \"\"\"\n",
    "    return a_string.lower() == a_string[::-1].lower()"
   ]
  },
  {
   "cell_type": "code",
   "execution_count": 21,
   "metadata": {
    "collapsed": false
   },
   "outputs": [
    {
     "data": {
      "text/plain": [
       "True"
      ]
     },
     "execution_count": 21,
     "metadata": {},
     "output_type": "execute_result"
    }
   ],
   "source": [
    "palindrome('wow')"
   ]
  },
  {
   "cell_type": "code",
   "execution_count": 22,
   "metadata": {
    "collapsed": false
   },
   "outputs": [
    {
     "data": {
      "text/plain": [
       "False"
      ]
     },
     "execution_count": 22,
     "metadata": {},
     "output_type": "execute_result"
    }
   ],
   "source": [
    "palindrome('open')"
   ]
  },
  {
   "cell_type": "markdown",
   "metadata": {},
   "source": [
    "## 4. Find the Longest Word in a String\n",
    "This is where I started to explore solutions using more of Python's builtin methods, which can really help you accomplish a lot.\n",
    "\n",
    "In this case I nested the **max** method inside the **len** method so as to ultimately return the length of the longest word, not the word itself.\n",
    "\n",
    "Also, note that max takes and optional key argument where you can specify a function to sort on, in this case the buiitin len to sort by length."
   ]
  },
  {
   "cell_type": "code",
   "execution_count": 23,
   "metadata": {
    "collapsed": true
   },
   "outputs": [],
   "source": [
    "def find_longest_word(sentence):\n",
    "    \"\"\" (str) -> int\n",
    "\n",
    "    Return the length of the longest word in sentence.\n",
    "\n",
    "    >>> find_longest_word(\"The quick brown fox jumped over the lazy dog\")\n",
    "    6\n",
    "    \"\"\"\n",
    "    words = sentence.split()\n",
    "    return len(max(words, key=len))"
   ]
  },
  {
   "cell_type": "code",
   "execution_count": 24,
   "metadata": {
    "collapsed": false
   },
   "outputs": [
    {
     "data": {
      "text/plain": [
       "6"
      ]
     },
     "execution_count": 24,
     "metadata": {},
     "output_type": "execute_result"
    }
   ],
   "source": [
    "find_longest_word(\"The quick brown fox jumped over the lazy dog\")"
   ]
  },
  {
   "cell_type": "markdown",
   "metadata": {},
   "source": [
    "## 5. Title Case a Sentence\n",
    "Again I used a standard library module here, the [string](https://docs.python.org/3/library/string.html) module, which has a handy capitalize function. Too easy!"
   ]
  },
  {
   "cell_type": "code",
   "execution_count": 26,
   "metadata": {
    "collapsed": true
   },
   "outputs": [],
   "source": [
    "import string\n",
    "\n",
    "\n",
    "def title_case(sentence):\n",
    "    \"\"\" (str) -> str\n",
    "\n",
    "    Return Capitalised copy of sentence.\n",
    "\n",
    "    >>> title_case(\"I'm a little tea pot\")\n",
    "    'I'm A Little Tea Pot'\n",
    "    \"\"\"\n",
    "    return string.capwords(sentence)"
   ]
  },
  {
   "cell_type": "code",
   "execution_count": 30,
   "metadata": {
    "collapsed": false
   },
   "outputs": [
    {
     "data": {
      "text/plain": [
       "\"I'm A Little Tea Pot\""
      ]
     },
     "execution_count": 30,
     "metadata": {},
     "output_type": "execute_result"
    }
   ],
   "source": [
    "title_case(\"I'm a little tea pot\")"
   ]
  },
  {
   "cell_type": "markdown",
   "metadata": {},
   "source": [
    "## 6. Return Largest Numbers in Arrays\n",
    "Again this was pretty simple using builtins. For situations like this, I really like how you can do the one line `for` loops in Python though.\n",
    "\n",
    "List comprehension they call it (see 10. Chunky Monkey below). I wonder if there is a preferred way of doing it with list() or []?"
   ]
  },
  {
   "cell_type": "code",
   "execution_count": 23,
   "metadata": {
    "collapsed": true
   },
   "outputs": [],
   "source": [
    "def largest_of_four(four_lists):\n",
    "    \"\"\" (list of list of num) -> list\n",
    "\n",
    "    Return a list containing the largest number from each list in four_lists.\n",
    "\n",
    "    >>> largest_of_four([[4, 5, 1, 3], [13, 27, 18, 26],\n",
    "                         [32, 35, 37, 39], [1000, 1001, 857, 1]])\n",
    "    [5,27,39,1001]\n",
    "    \"\"\"\n",
    "    return list(max(num) for num in four_lists)"
   ]
  },
  {
   "cell_type": "code",
   "execution_count": 24,
   "metadata": {
    "collapsed": false
   },
   "outputs": [
    {
     "data": {
      "text/plain": [
       "[5, 27, 39, 1001]"
      ]
     },
     "execution_count": 24,
     "metadata": {},
     "output_type": "execute_result"
    }
   ],
   "source": [
    "largest_of_four([[4, 5, 1, 3], [13, 27, 18, 26],\n",
    "                         [32, 35, 37, 39], [1000, 1001, 857, 1]])"
   ]
  },
  {
   "cell_type": "markdown",
   "metadata": {},
   "source": [
    "## 7. Confirm the Ending\n",
    "More simple slice comparisons."
   ]
  },
  {
   "cell_type": "code",
   "execution_count": 33,
   "metadata": {
    "collapsed": true
   },
   "outputs": [],
   "source": [
    "def confirm_ending(a_string, last_char):\n",
    "    \"\"\" (str) -> bool\n",
    "\n",
    "    Return True if a_string ends with last_char.\n",
    "\n",
    "    >>> confirm_ending(\"Bastian\", \"n\")\n",
    "    True\n",
    "    >>> confirm_ending(\"Bastian\", \"a\")\n",
    "    False\n",
    "    \"\"\"\n",
    "    return a_string[-1] == last_char"
   ]
  },
  {
   "cell_type": "code",
   "execution_count": 34,
   "metadata": {
    "collapsed": false
   },
   "outputs": [
    {
     "data": {
      "text/plain": [
       "True"
      ]
     },
     "execution_count": 34,
     "metadata": {},
     "output_type": "execute_result"
    }
   ],
   "source": [
    "confirm_ending(\"Bastian\", \"n\")"
   ]
  },
  {
   "cell_type": "code",
   "execution_count": 35,
   "metadata": {
    "collapsed": false
   },
   "outputs": [
    {
     "data": {
      "text/plain": [
       "False"
      ]
     },
     "execution_count": 35,
     "metadata": {},
     "output_type": "execute_result"
    }
   ],
   "source": [
    "confirm_ending(\"Bastian\", \"a\")"
   ]
  },
  {
   "cell_type": "markdown",
   "metadata": {},
   "source": [
    "## 8. Repeat a string repeat a string\n",
    "There may well be a more Pythonic way of doing this, but it works. Is using multiple/conditional return statements not cool in Python I wonder?"
   ]
  },
  {
   "cell_type": "code",
   "execution_count": 36,
   "metadata": {
    "collapsed": true
   },
   "outputs": [],
   "source": [
    "def repeat_string_num_times(a_string, repeats):\n",
    "    \"\"\" (str, int) -> str\n",
    "\n",
    "    Return a string representing a_string * repeats\n",
    "    or empty string if repeats < 1\n",
    "\n",
    "    >>> repeat_string_num_times(\"abc\", 3)\n",
    "    'abcabcabc'\n",
    "    >>> repeat_string_num_times(\"foo\", -1)\n",
    "    ''\n",
    "    \"\"\"\n",
    "    if repeats:\n",
    "        return a_string * repeats\n",
    "    return ''"
   ]
  },
  {
   "cell_type": "code",
   "execution_count": 37,
   "metadata": {
    "collapsed": false
   },
   "outputs": [
    {
     "data": {
      "text/plain": [
       "'abcabcabc'"
      ]
     },
     "execution_count": 37,
     "metadata": {},
     "output_type": "execute_result"
    }
   ],
   "source": [
    "repeat_string_num_times(\"abc\", 3)"
   ]
  },
  {
   "cell_type": "code",
   "execution_count": 38,
   "metadata": {
    "collapsed": false
   },
   "outputs": [
    {
     "data": {
      "text/plain": [
       "''"
      ]
     },
     "execution_count": 38,
     "metadata": {},
     "output_type": "execute_result"
    }
   ],
   "source": [
    "repeat_string_num_times(\"foo\", -1)"
   ]
  },
  {
   "cell_type": "markdown",
   "metadata": {},
   "source": [
    "## 9. Truncate a string\n",
    "One question I'm having at this point is what is the Pythonic way to name an argument that is any string? I'm going with a_string. The same goes for any list etc??\n",
    "\n",
    "Note use of string formatting too - seems this is the preferred way to do it over using % or sting concatination."
   ]
  },
  {
   "cell_type": "code",
   "execution_count": 40,
   "metadata": {
    "collapsed": true
   },
   "outputs": [],
   "source": [
    "def truncate_string(a_string, length):\n",
    "    \"\"\" (str, int) -> str\n",
    "    \n",
    "    Return a_string truncated to length and ending in ...\n",
    "    If length < 4, a_string length does not include ending ...\n",
    "\n",
    "    >>> truncate_string('A-tisket a-tasket A green and yellow basket', 11)\n",
    "    'A-tisket...'\n",
    "    >>>truncate_string('A-tisket a-tasket A green and yellow basket', 3)\n",
    "    'A-t...'\n",
    "    \"\"\"\n",
    "    if length < 4:\n",
    "        truncated = a_string[:length]\n",
    "    else:\n",
    "        truncated = a_string[:length-3]\n",
    "    return '{0}...'.format(truncated)"
   ]
  },
  {
   "cell_type": "code",
   "execution_count": 41,
   "metadata": {
    "collapsed": false
   },
   "outputs": [
    {
     "data": {
      "text/plain": [
       "'A-tisket...'"
      ]
     },
     "execution_count": 41,
     "metadata": {},
     "output_type": "execute_result"
    }
   ],
   "source": [
    "truncate_string('A-tisket a-tasket A green and yellow basket', 11)"
   ]
  },
  {
   "cell_type": "code",
   "execution_count": 42,
   "metadata": {
    "collapsed": false
   },
   "outputs": [
    {
     "data": {
      "text/plain": [
       "'A-t...'"
      ]
     },
     "execution_count": 42,
     "metadata": {},
     "output_type": "execute_result"
    }
   ],
   "source": [
    "truncate_string('A-tisket a-tasket A green and yellow basket', 3)"
   ]
  },
  {
   "cell_type": "markdown",
   "metadata": {},
   "source": [
    "## 10. Chunky Monkey\n",
    "This one had me stumped for a while. I could figure out longwinded ways of doing it, but I wanted something succint, which I was certain was possible with Python.\n",
    "\n",
    "The solution I arrived at uses [list comprehension](http://book.pythontips.com/en/latest/comprehensions.html#list-comprehensions) and the range builtin with its optional step argument.\n",
    "\n"
   ]
  },
  {
   "cell_type": "code",
   "execution_count": 46,
   "metadata": {
    "collapsed": true
   },
   "outputs": [],
   "source": [
    "def chunk_array_in_groups(a_list, size):\n",
    "    \"\"\" (list, int) -> list of list\n",
    "\n",
    "    Return a_list in chunks of size as a list.\n",
    "\n",
    "    >>> chunk_array_in_groups([\"a\", \"b\", \"c\", \"d\"], 2)\n",
    "    [[\"a\", \"b\"], [\"c\", \"d\"]]\n",
    "    \"\"\"\n",
    "    return [a_list[i:i+size] for i in range(0, len(a_list), size)]"
   ]
  },
  {
   "cell_type": "code",
   "execution_count": 47,
   "metadata": {
    "collapsed": false
   },
   "outputs": [
    {
     "data": {
      "text/plain": [
       "[['a', 'b'], ['c', 'd']]"
      ]
     },
     "execution_count": 47,
     "metadata": {},
     "output_type": "execute_result"
    }
   ],
   "source": [
    "chunk_array_in_groups([\"a\", \"b\", \"c\", \"d\"], 2)"
   ]
  },
  {
   "cell_type": "markdown",
   "metadata": {},
   "source": [
    "## 11. Slasher Flick\n",
    "I thought this was going to be harder than it was. In the end it was just more slicing."
   ]
  },
  {
   "cell_type": "code",
   "execution_count": 43,
   "metadata": {
    "collapsed": true
   },
   "outputs": [],
   "source": [
    "def slasher(a_list, how_many):\n",
    "    \"\"\"(list, int) -> list\n",
    "\n",
    "    Return a_list with how_many items removed from its head.\n",
    "\n",
    "    >>> slasher([1, 2, 3], 2)\n",
    "    [3]\n",
    "    >>> slasher([1, 2, 3, 4, 5, 6], 3)\n",
    "    [4, 5, 6]\n",
    "    \"\"\"\n",
    "    return a_list[how_many:]"
   ]
  },
  {
   "cell_type": "code",
   "execution_count": 49,
   "metadata": {
    "collapsed": false
   },
   "outputs": [
    {
     "data": {
      "text/plain": [
       "[3]"
      ]
     },
     "execution_count": 49,
     "metadata": {},
     "output_type": "execute_result"
    }
   ],
   "source": [
    "slasher([1, 2, 3], 2)"
   ]
  },
  {
   "cell_type": "code",
   "execution_count": 50,
   "metadata": {
    "collapsed": false
   },
   "outputs": [
    {
     "data": {
      "text/plain": [
       "[4, 5, 6]"
      ]
     },
     "execution_count": 50,
     "metadata": {},
     "output_type": "execute_result"
    }
   ],
   "source": [
    "slasher([1, 2, 3, 4, 5, 6], 3)"
   ]
  },
  {
   "cell_type": "markdown",
   "metadata": {},
   "source": [
    "## 12. Mutations\n",
    "I'm certain there is a more Pythonic way of doing this. Maybe using map but I'm not sure?\n",
    "\n",
    "Note the use of lower() - the challenge specified case should be ignored."
   ]
  },
  {
   "cell_type": "code",
   "execution_count": 51,
   "metadata": {
    "collapsed": true
   },
   "outputs": [],
   "source": [
    "def mutation(a_list):\n",
    "    \"\"\" (list) -> bool\n",
    "\n",
    "    Returns True if all chars in a_list[1] are contained in a_list[0].\n",
    "\n",
    "    >>> mutation([\"hello\", \"hey\"])\n",
    "    False\n",
    "    >>> mutation([\"hello\", \"hello\"])\n",
    "    True\n",
    "    \"\"\"\n",
    "    for character in a_list[1].lower():\n",
    "        if character not in a_list[0].lower():\n",
    "            return False\n",
    "    return True"
   ]
  },
  {
   "cell_type": "code",
   "execution_count": 52,
   "metadata": {
    "collapsed": false
   },
   "outputs": [
    {
     "data": {
      "text/plain": [
       "False"
      ]
     },
     "execution_count": 52,
     "metadata": {},
     "output_type": "execute_result"
    }
   ],
   "source": [
    "mutation([\"hello\", \"hey\"])"
   ]
  },
  {
   "cell_type": "code",
   "execution_count": 53,
   "metadata": {
    "collapsed": false
   },
   "outputs": [
    {
     "data": {
      "text/plain": [
       "True"
      ]
     },
     "execution_count": 53,
     "metadata": {},
     "output_type": "execute_result"
    }
   ],
   "source": [
    "mutation([\"hello\", \"hello\"])"
   ]
  },
  {
   "cell_type": "markdown",
   "metadata": {
    "collapsed": true
   },
   "source": [
    "## 13. Falsy Bouncer\n",
    "First use of a lambda function. I still have a bit of a hard time getting my head around lambdas, but I recognise their power.\n",
    "\n",
    "The filter function takes two arguments, a function and then an iterable, and constructs an iterator from those elements of iterable for which the function returns true.\n",
    "\n",
    "In this case I use the lambda function to test if the iterable items are True using bool() and then adding them to a list using list() (list comprehension)."
   ]
  },
  {
   "cell_type": "code",
   "execution_count": 8,
   "metadata": {
    "collapsed": true
   },
   "outputs": [],
   "source": [
    "def bouncer(a_list):\n",
    "    \"\"\" (list) -> list\n",
    "\n",
    "    Return a_list with items that evaluate to False removed.\n",
    "\n",
    "    >>> bouncer([7, \"ate\", \"\", False, 9, None, 0, True])\n",
    "    [7, \"ate\", 9]\n",
    "    \"\"\"\n",
    "    return list(filter(lambda item: bool(item) != False, a_list))"
   ]
  },
  {
   "cell_type": "code",
   "execution_count": 9,
   "metadata": {
    "collapsed": false
   },
   "outputs": [
    {
     "data": {
      "text/plain": [
       "[7, 'ate', 9, True]"
      ]
     },
     "execution_count": 9,
     "metadata": {},
     "output_type": "execute_result"
    }
   ],
   "source": [
    "bouncer([7, \"ate\", \"\", False, 9, None, 0, True])"
   ]
  },
  {
   "cell_type": "markdown",
   "metadata": {
    "collapsed": true
   },
   "source": [
    "## 14. Seek and Destroy\n",
    "\n",
    "I wasn't really in the zone when I started this one and came up with:\n",
    "\n",
    "```for i in args:\n",
    "       while i in arr:\n",
    "           arr.remove(i)```\n",
    "\n",
    "But then, of course, list comprehension saved the day once again!"
   ]
  },
  {
   "cell_type": "code",
   "execution_count": 15,
   "metadata": {
    "collapsed": false
   },
   "outputs": [],
   "source": [
    "def destroyer(a_list, *args):\n",
    "    \"\"\"(list, obj) -> list\n",
    "    \n",
    "    Return a_list with elements that are found in *args removed\n",
    "    \n",
    "    >>> destroyer([1, 2, 3, 1, 2, 3], 2, 3, 6)\n",
    "    [1, 1]\n",
    "    \"\"\"\n",
    "    return [elem for elem in a_list if elem not in args]"
   ]
  },
  {
   "cell_type": "code",
   "execution_count": 16,
   "metadata": {
    "collapsed": false
   },
   "outputs": [
    {
     "data": {
      "text/plain": [
       "[1, 1]"
      ]
     },
     "execution_count": 16,
     "metadata": {},
     "output_type": "execute_result"
    }
   ],
   "source": [
    "destroyer([1, 2, 3, 1, 2, 3], 2, 3)"
   ]
  },
  {
   "cell_type": "markdown",
   "metadata": {},
   "source": [
    "## 15. Where do I belong\n",
    "\n",
    "An interesting one. I felt sure there would be something in the standard library to do this, and there was indeed. See docs on the [bisect](https://docs.python.org/3/library/bisect.html) module for details.\n",
    "\n",
    "I have to say though, sometimes I think the hardest thing about Python is knowing where to look in the docs to find what you might be after. That is a skill in itself I suppose!"
   ]
  },
  {
   "cell_type": "code",
   "execution_count": 30,
   "metadata": {
    "collapsed": false
   },
   "outputs": [],
   "source": [
    "import bisect\n",
    "\n",
    "\n",
    "def get_index_to_insert(a_list, num):\n",
    "    \"\"\"(list, num) -> int\n",
    "    \n",
    "    Return lowest index in sorted a_list at which num should be inserted to maintain\n",
    "    sorted order.\n",
    "    \n",
    "    >>> get_index_to_insert([1,2,3,4], 1.5)\n",
    "    1\n",
    "    >>> get_index_to_insert([20,3,5], 19)\n",
    "    2\n",
    "    \"\"\"\n",
    "    return bisect.bisect_left(sorted(a_list), num)"
   ]
  },
  {
   "cell_type": "code",
   "execution_count": 18,
   "metadata": {
    "collapsed": false
   },
   "outputs": [
    {
     "data": {
      "text/plain": [
       "1"
      ]
     },
     "execution_count": 18,
     "metadata": {},
     "output_type": "execute_result"
    }
   ],
   "source": [
    "get_index_to_insert([1,2,3,4], 1.5)"
   ]
  },
  {
   "cell_type": "code",
   "execution_count": 19,
   "metadata": {
    "collapsed": false
   },
   "outputs": [
    {
     "data": {
      "text/plain": [
       "2"
      ]
     },
     "execution_count": 19,
     "metadata": {},
     "output_type": "execute_result"
    }
   ],
   "source": [
    "get_index_to_insert([20,3,5], 19)"
   ]
  },
  {
   "cell_type": "markdown",
   "metadata": {},
   "source": [
    "## 16. Caesars Cipher\n",
    "\n",
    "I thought I might have to do a bit of work for this one, but standard library to the rescue once again.\n",
    "\n",
    "The Caeser Cipher aka rot13 is clearly a very well known cipher because it is included as a codec in Python. Using version 3.5 you can encode a string using it via the codecs library very easily. In 2.7 you don't even need to import codecs. Just encode you string directly."
   ]
  },
  {
   "cell_type": "code",
   "execution_count": 37,
   "metadata": {
    "collapsed": true
   },
   "outputs": [],
   "source": [
    "import codecs\n",
    "\n",
    "\n",
    "def rot13(a_string): #  LBH QVQ VG!\n",
    "    \"\"\"(str) -> str\n",
    "    \n",
    "    Return a_string transformed using rot13 cipher.\n",
    "    \n",
    "    >>> rot13(\"AB\")\n",
    "    NO\n",
    "    >>> rot13(\"SERR PBQR PNZC\")\n",
    "    FREE CODE CAMP\n",
    "    \"\"\"\n",
    "    return codecs.encode(a_string, 'Rot13')\n"
   ]
  },
  {
   "cell_type": "code",
   "execution_count": 38,
   "metadata": {
    "collapsed": false
   },
   "outputs": [
    {
     "data": {
      "text/plain": [
       "'NO'"
      ]
     },
     "execution_count": 38,
     "metadata": {},
     "output_type": "execute_result"
    }
   ],
   "source": [
    "rot13(\"AB\")"
   ]
  },
  {
   "cell_type": "code",
   "execution_count": 39,
   "metadata": {
    "collapsed": false
   },
   "outputs": [
    {
     "data": {
      "text/plain": [
       "'FREE CODE CAMP'"
      ]
     },
     "execution_count": 39,
     "metadata": {},
     "output_type": "execute_result"
    }
   ],
   "source": [
    "rot13(\"SERR PBQR PNZC\")"
   ]
  },
  {
   "cell_type": "markdown",
   "metadata": {},
   "source": [
    "And that's it. Final thoughts:\n",
    "\n",
    "* this took me a while due to 'life' but it was actually mostly pretty easy\n",
    "* It's really good to write decent docstring fo rfunctions I think - I will get into that habit!\n",
    "* Python smokes Javascript for ease of doing this stuff as far as I'm concerned. I guess that's the beauty of a general programming language\n",
    "\n",
    "Intermediate algorithms next - that will be more of a test of Python Vs JS perhaps?\n",
    "\n"
   ]
  }
 ],
 "metadata": {
  "kernelspec": {
   "display_name": "Python 3",
   "language": "python",
   "name": "python3"
  },
  "language_info": {
   "codemirror_mode": {
    "name": "ipython",
    "version": 3
   },
   "file_extension": ".py",
   "mimetype": "text/x-python",
   "name": "python",
   "nbconvert_exporter": "python",
   "pygments_lexer": "ipython3",
   "version": "3.5.2"
  }
 },
 "nbformat": 4,
 "nbformat_minor": 1
}
